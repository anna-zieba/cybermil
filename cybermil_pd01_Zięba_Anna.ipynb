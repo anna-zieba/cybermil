{
  "cells": [
    {
      "cell_type": "markdown",
      "metadata": {
        "id": "view-in-github",
        "colab_type": "text"
      },
      "source": [
        "<a href=\"https://colab.research.google.com/github/anna-zieba/cybermil/blob/main/cybermil_pd01_Zi%C4%99ba_Anna.ipynb\" target=\"_parent\"><img src=\"https://colab.research.google.com/assets/colab-badge.svg\" alt=\"Open In Colab\"/></a>"
      ]
    },
    {
      "cell_type": "markdown",
      "id": "09e31af2",
      "metadata": {
        "id": "09e31af2"
      },
      "source": [
        "# Cyber.Mil\n",
        "## Programowanie\n",
        "### Praca domowa 01\n",
        "\n",
        "Proszę użyć tego arkusza do rozwiązania zadań domowych. Na początek proszę zmienić 'nazwisko_imie' na wasze nazwisko i imie, bez polskich znaków diakrytycznych.\n",
        "\n",
        "Część zadań to powtórka z zajęć. Jak już Państwo zaprogramują wszystko, proszę zapisać arkusz (File->Save and Checkpoint) oraz zapisać arkusz na dysk (File->Download as->Notebook). Ten plik proszę wysłać na classroom. \n",
        "\n",
        "Jeszcze jedna uwaga: **Używamy zmiennych oraz komentarzy** (tam gdzie to w/g Państwa niezbędne)."
      ]
    },
    {
      "cell_type": "code",
      "execution_count": null,
      "id": "c891beea",
      "metadata": {
        "id": "c891beea"
      },
      "outputs": [],
      "source": [
        "# współpraca:\n",
        "# przybliżony czas poświęcony na tą pracę domową:"
      ]
    },
    {
      "cell_type": "code",
      "source": [],
      "metadata": {
        "id": "GcqeJOjyC7Zt"
      },
      "id": "GcqeJOjyC7Zt",
      "execution_count": null,
      "outputs": []
    },
    {
      "cell_type": "code",
      "execution_count": null,
      "id": "37502e85",
      "metadata": {
        "id": "37502e85"
      },
      "outputs": [],
      "source": []
    },
    {
      "cell_type": "markdown",
      "id": "23938c52",
      "metadata": {
        "id": "23938c52"
      },
      "source": [
        "### Zadanie 1\n",
        "Napisz program konwertujący stopnie Celsjusza na stopnie Fahrenheita. Użyj zmiennych o sensownych nazwach. "
      ]
    },
    {
      "cell_type": "code",
      "execution_count": null,
      "id": "eb4ec5bf",
      "metadata": {
        "id": "eb4ec5bf",
        "colab": {
          "base_uri": "https://localhost:8080/"
        },
        "outputId": "44b3ac10-a124-415f-a467-4bd473804f84"
      },
      "outputs": [
        {
          "output_type": "stream",
          "name": "stdout",
          "text": [
            "45 °C wynosi 113.0 °F\n"
          ]
        }
      ],
      "source": [
        "degree_celcius = 45\n",
        "degree_fahreheit = degree_celcius * 1.8 + 32\n",
        "print(degree_celcius, \"°C wynosi\", degree_fahreheit, \"°F\")"
      ]
    },
    {
      "cell_type": "markdown",
      "id": "fd8d6b58",
      "metadata": {
        "id": "fd8d6b58"
      },
      "source": [
        "### Zadanie 2\n",
        "Napisz program konwertujący stopnie Fahrenheita na Celsjusza. Użyj zmiennych o sensownych nazwach."
      ]
    },
    {
      "cell_type": "code",
      "execution_count": null,
      "id": "bcc19b33",
      "metadata": {
        "id": "bcc19b33",
        "colab": {
          "base_uri": "https://localhost:8080/"
        },
        "outputId": "3cafad7c-a0da-4e03-b8ee-fd9a533b2e16"
      },
      "outputs": [
        {
          "output_type": "stream",
          "name": "stdout",
          "text": [
            "4 °F wynosi -15.555555555555555 °C\n"
          ]
        }
      ],
      "source": [
        "degree_fahreheit = 4\n",
        "degree_celcius = (degree_fahreheit - 32) / 1.8\n",
        "print(degree_fahreheit, \"°F wynosi\", degree_celcius, \"°C\")"
      ]
    },
    {
      "cell_type": "markdown",
      "id": "61197a88",
      "metadata": {
        "id": "61197a88"
      },
      "source": [
        "### Zadanie 3\n",
        "Znając długość boku `a` kwadratu oblicz jego (po 5 pkt)\n",
        "* pole\n",
        "* obwód\n",
        "* długość przekątnej\n",
        "\n",
        "Użyj zmiennych o sensownych nazwach. Wyniki podaj tak czytelnie jak to możliwe (`print`)."
      ]
    },
    {
      "cell_type": "code",
      "execution_count": null,
      "id": "2d8aae5a",
      "metadata": {
        "id": "2d8aae5a",
        "colab": {
          "base_uri": "https://localhost:8080/"
        },
        "outputId": "c3d8a985-72bf-4387-d72d-e6ceda6b3db6"
      },
      "outputs": [
        {
          "output_type": "stream",
          "name": "stdout",
          "text": [
            "pole kwadratu wynosi 361 , obwód kwadratu wynosi 76 , długość przekątnej kwadratu wynosi 26.870057685088806\n"
          ]
        }
      ],
      "source": [
        "a = 19     #side length\n",
        "\n",
        "if a < 0:\n",
        "  print(\"niepoprawne dane\")\n",
        "\n",
        "area_of_the_square = a**2\n",
        "perimeter_of_the_square = 4 * a\n",
        "diagonal_lenght = a * (2 ** 0.5)\n",
        "\n",
        "print(\"pole kwadratu wynosi\", area_of_the_square, \", obwód kwadratu wynosi\", perimeter_of_the_square, \", długość przekątnej kwadratu wynosi\", diagonal_lenght)\n"
      ]
    },
    {
      "cell_type": "markdown",
      "id": "bf0d101f",
      "metadata": {
        "id": "bf0d101f"
      },
      "source": [
        "### Zadanie 4\n",
        "Znając długość boków `a` oraz `b` prostokąta oblicz jego (po 5 pkt)\n",
        "* pole\n",
        "* obwód\n",
        "* długość przekątnej\n",
        "\n",
        "Użyj zmiennych o sensownych nazwach. Wyniki podaj tak czytelnie jak to możliwe (`print`)."
      ]
    },
    {
      "cell_type": "code",
      "execution_count": null,
      "id": "a69a0022",
      "metadata": {
        "id": "a69a0022",
        "colab": {
          "base_uri": "https://localhost:8080/"
        },
        "outputId": "c72900f8-168d-4e64-9c57-4f23ba08c94a"
      },
      "outputs": [
        {
          "output_type": "stream",
          "name": "stdout",
          "text": [
            "pole prostokąta wynosi 18 , obwód prostokąta wynosi 18 , długość przekątnej wynosi 6.708203932499369\n"
          ]
        }
      ],
      "source": [
        "a = 3     #side lenght\n",
        "b = 6     #side lenght\n",
        "\n",
        "if a < 0:\n",
        "  print(\"niepoprawne dane\")\n",
        "if b < 0:\n",
        "  print(\"niepoprawne dane\")\n",
        "\n",
        "area_of_the_rectangle = a * b\n",
        "perimeter_of_the_rectangle = 2 * b + 2 * a\n",
        "diagonal_lenght = (a ** 2 + b ** 2) ** 0.5\n",
        "\n",
        "print(\"pole prostokąta wynosi\", area_of_the_rectangle, \", obwód prostokąta wynosi\", perimeter_of_the_rectangle, \", długość przekątnej wynosi\", diagonal_lenght)\n"
      ]
    },
    {
      "cell_type": "markdown",
      "id": "ad08134e",
      "metadata": {
        "id": "ad08134e"
      },
      "source": [
        "### Zadanie 5. Jednostki\n",
        "\n",
        "Napisz prosty program zamieniający długość z metrów na jednostki z wysp Brytyjskich (stopy, cale, jardy i mile).\n",
        "\n",
        "* 1 cal = 2.54 cm (5 pkt)\n",
        "* 1 stopa = 12 cali (5 pkt)\n",
        "* 1 jard = 3 stopy (5 pkt)\n",
        "* 1 mila = 1760 jardów (5 pkt)\n",
        "\n",
        "Uwaga: 640 m = 25196.85 cali = 2099.74 stóp = 699.91 jardów = 0.3977 mili (użyj tej wielkości do testów)."
      ]
    },
    {
      "cell_type": "code",
      "execution_count": null,
      "metadata": {
        "id": "dda978de",
        "colab": {
          "base_uri": "https://localhost:8080/"
        },
        "outputId": "bb3fde00-a567-4dbb-ace8-f3a5b3c84c9e"
      },
      "outputs": [
        {
          "output_type": "stream",
          "name": "stdout",
          "text": [
            "25196.8 \n",
            " 2099.7376 \n",
            " 700.1600000000001 \n",
            " 0.3976768\n"
          ]
        }
      ],
      "source": [
        "metres = 640\n",
        "\n",
        "inches = metres * 39.37\n",
        "foots = metres * 3.28084\n",
        "jards = metres * 1.094\n",
        "miles = metres * 0.00062137\n",
        "\n",
        "print(inches,\"\\n\", foots, \"\\n\", jards, \"\\n\", miles)"
      ],
      "id": "dda978de"
    },
    {
      "cell_type": "markdown",
      "id": "5808363d",
      "metadata": {
        "id": "5808363d"
      },
      "source": [
        "### Zadanie 6\n",
        "Napisz program obliczający pole o obwód koła o promieniu `r`. Użyj zmiennych o sensownych nazwach. Wyniki podaj tak czytelnie jak to możliwe (`print`)."
      ]
    },
    {
      "cell_type": "code",
      "execution_count": null,
      "id": "3ddd6ef5",
      "metadata": {
        "id": "3ddd6ef5",
        "colab": {
          "base_uri": "https://localhost:8080/"
        },
        "outputId": "e18d4240-6c9c-4bfc-b987-b7dcdebdeb2c"
      },
      "outputs": [
        {
          "output_type": "stream",
          "name": "stdout",
          "text": [
            "pole koła wynosi 78.5 , obwód koła wynosi 31.4\n"
          ]
        }
      ],
      "source": [
        "r = 5     #radius\n",
        "if r < 0:\n",
        "  print(\"niepoprawne dane\")\n",
        "\n",
        "area_of_the_circle = 3.14 * r ** 2\n",
        "perimeter_of_the_circle = 2 * 3.14 * r\n",
        "\n",
        "print(\"pole koła wynosi\", area_of_the_circle, \", obwód koła wynosi\", round(perimeter_of_the_circle, 2))\n"
      ]
    },
    {
      "cell_type": "markdown",
      "id": "3b2e4e00",
      "metadata": {
        "id": "3b2e4e00"
      },
      "source": [
        "### Zadanie 7\n",
        "Niech $p$ oznacza stopę procentową banku wyrażoną w procentach na rok. Początkowa wartość $W$ odłożonej gotówki $A$ w tym banku urośnie zgodnie ze wzorem\n",
        "\n",
        "$$W = A\\left(1 + \\frac{p}{100}\\right)^n$$\n",
        "\n",
        "o $n$ latach. Oblicz do jakiej kwoty wzrośnie\n",
        "* 1000 Euro po 3 latach dla stopy 5 procentowej (3 pkt)\n",
        "* 23513 zł po 5 latach dla stopy 3,54% (3 pkt)\n",
        "* 112,12 miliona Rubli po 1 roku dla stopy 7.14% (3 pkt)\n",
        "\n",
        "Powyższe wielkości sformatuj odpowiednio dla wszystkich trzech przypadków tak, by inwestor otrzymał pełną, czytelną informację (+2 pkt za podpunkt)"
      ]
    },
    {
      "cell_type": "code",
      "execution_count": null,
      "id": "09a08d6a",
      "metadata": {
        "id": "09a08d6a",
        "colab": {
          "base_uri": "https://localhost:8080/"
        },
        "outputId": "a0b3273a-f460-496c-de23-52ef23decd81"
      },
      "outputs": [
        {
          "output_type": "stream",
          "name": "stdout",
          "text": [
            "Gdy wpłacisz kwotę początkową 1000 €, to\n",
            "przy oprocentowaniu 5 %, w okresie kapitalizacji 3 lat \n",
            "kwota końcowa wynosić będzie 1157.63 €\n"
          ]
        }
      ],
      "source": [
        "a = 1000     # initial amount\n",
        "p = 5        # interest rate\n",
        "n = 3        # number of capitalization periods\n",
        "\n",
        "w = a * (1 + p / 100) ** n\n",
        "\n",
        "print(\"Gdy wpłacisz kwotę początkową\", round(a, 2),\"€, to\\nprzy oprocentowaniu\", p, \"%, w okresie kapitalizacji\", n, \"lat\", \"\\nkwota końcowa wynosić będzie\", round(w, 2), \"€\")\n",
        "\n"
      ]
    },
    {
      "cell_type": "code",
      "execution_count": null,
      "id": "33df835a",
      "metadata": {
        "id": "33df835a",
        "colab": {
          "base_uri": "https://localhost:8080/"
        },
        "outputId": "a27e35c1-e943-48d0-b150-ac7df07f546e"
      },
      "outputs": [
        {
          "output_type": "stream",
          "name": "stdout",
          "text": [
            "Gdy wpłacisz kwotę początkową 23513 PLN, to\n",
            "przy oprocentowaniu 3.54 %, w okresie kapitalizacji 5 lat \n",
            "kwota końcowa wynosić będzie 27980.07 PLN\n"
          ]
        }
      ],
      "source": [
        "a = 23513     # initial amount\n",
        "p = 3.54      # interest rate\n",
        "n = 5         # number of capitalization periods\n",
        "\n",
        "w = a * (1 + p / 100) ** n\n",
        "\n",
        "print(\"Gdy wpłacisz kwotę początkową\", round(a, 2),\"PLN, to\\nprzy oprocentowaniu\", p, \"%, w okresie kapitalizacji\", n, \"lat\", \"\\nkwota końcowa wynosić będzie\", round(w, 2), \"PLN\")\n"
      ]
    },
    {
      "cell_type": "code",
      "source": [
        "a = 112120000 # initial amount\n",
        "p = 7.14      # interest rate\n",
        "n = 1         # number of capitalization periods\n",
        "\n",
        "w = a * (1 + p / 100) ** n\n",
        "\n",
        "print(\"Gdy wpłacisz kwotę początkową\", round(a, 2),\"₽, to\\nprzy oprocentowaniu\", p, \"%, w okresie kapitalizacji\", n, \"lat\", \"\\nkwota końcowa wynosić będzie\", round(w, 2), \"₽\")\n"
      ],
      "metadata": {
        "colab": {
          "base_uri": "https://localhost:8080/"
        },
        "id": "dOlMfB0cYpqQ",
        "outputId": "ffba302c-1731-4f6b-b496-4f2baae81a71"
      },
      "id": "dOlMfB0cYpqQ",
      "execution_count": null,
      "outputs": [
        {
          "output_type": "stream",
          "name": "stdout",
          "text": [
            "Gdy wpłacisz kwotę początkową 112120000 ₽, to\n",
            "przy oprocentowaniu 7.14 %, w okresie kapitalizacji 1 lat \n",
            "kwota końcowa wynosić będzie 120125368.0 ₽\n"
          ]
        }
      ]
    }
  ],
  "metadata": {
    "kernelspec": {
      "display_name": "Python 3 (ipykernel)",
      "language": "python",
      "name": "python3"
    },
    "language_info": {
      "codemirror_mode": {
        "name": "ipython",
        "version": 3
      },
      "file_extension": ".py",
      "mimetype": "text/x-python",
      "name": "python",
      "nbconvert_exporter": "python",
      "pygments_lexer": "ipython3",
      "version": "3.9.5"
    },
    "colab": {
      "provenance": [],
      "collapsed_sections": [],
      "include_colab_link": true
    }
  },
  "nbformat": 4,
  "nbformat_minor": 5
}