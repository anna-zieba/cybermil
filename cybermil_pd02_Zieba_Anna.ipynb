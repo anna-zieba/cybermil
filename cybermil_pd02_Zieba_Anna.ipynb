{
  "cells": [
    {
      "cell_type": "markdown",
      "metadata": {
        "id": "view-in-github",
        "colab_type": "text"
      },
      "source": [
        "<a href=\"https://colab.research.google.com/github/anna-zieba/cybermil/blob/main/cybermil_pd02_Zieba_Anna.ipynb\" target=\"_parent\"><img src=\"https://colab.research.google.com/assets/colab-badge.svg\" alt=\"Open In Colab\"/></a>"
      ]
    },
    {
      "cell_type": "markdown",
      "id": "09e31af2",
      "metadata": {
        "id": "09e31af2"
      },
      "source": [
        "## Cymer.Mil\n",
        "### Praca domowa 02 [100 pkt]\n",
        "\n",
        "Proszę użyć tego arkusza do rozwiązania zadań domowych. Na początek proszę zmienić 'nazwisko_imie' na Państwa nazwisko i imie, bez polskich znaków diakrytycznych.\n",
        "\n",
        "Część zadań to powtórka z zajęć. Jak już Państwo zaprogramują wszystko, proszę zapisać arkusz (File->Save and Checkpoint) oraz zapisać arkusz na dysk (File->Download as->Notebook). Ten plik proszę wgrać przez ten formularz:\n",
        "\n",
        "https://bit.ly/cybermilpd\n",
        "\n",
        "\n",
        "Jeszcze jedna uwaga: **Używamy zmiennych oraz komentarzy** (tam gdzie to w/g Państwa niezbędne)."
      ]
    },
    {
      "cell_type": "code",
      "execution_count": null,
      "id": "c891beea",
      "metadata": {
        "id": "c891beea"
      },
      "outputs": [],
      "source": [
        "# współpraca: \n",
        "# przybliżony czas poświęcony na tą pracę domową: "
      ]
    },
    {
      "cell_type": "code",
      "execution_count": null,
      "id": "37502e85",
      "metadata": {
        "id": "37502e85"
      },
      "outputs": [],
      "source": []
    },
    {
      "cell_type": "markdown",
      "id": "0878a737",
      "metadata": {
        "id": "0878a737"
      },
      "source": [
        "### Zadanie 1 [10 pkt]\n",
        "Mamy podane 3 odcinki o długości $a, b, c$. \n",
        "* Sprawdź, czy da się z nich zrobić trójkąt. [5pkt]\n",
        "* Przetestuj program dla minimum 5 zestawów odcinków. [5 pkt]\n",
        "\n",
        "(Użyj rozgałęzienia `if` i porządnie sformatuj odpowiedź)"
      ]
    },
    {
      "cell_type": "code",
      "execution_count": null,
      "id": "53572812",
      "metadata": {
        "id": "53572812",
        "colab": {
          "base_uri": "https://localhost:8080/"
        },
        "outputId": "b2e14c8d-4f5c-4db2-a877-f8edfcd2c233"
      },
      "outputs": [
        {
          "output_type": "stream",
          "name": "stdout",
          "text": [
            "3\n",
            "ok\n"
          ]
        }
      ],
      "source": [
        "# tutaj piszemy program\n",
        "x, y, z = 2, 2, 3\n",
        "print(max(x,y,z))\n",
        "# x+y+z-max(x,y,z) suma dwóch krótszych boków\n",
        "# max(x,y,z) długość najdłuższego bok\n",
        "# wystarczy sprawdzić czy spełniony jest warunek x+y+z-max(x,y,z) > max(x,y,z)\n",
        "if x+y+z>2*max(x,y,z):\n",
        "  print(\"ok\")\n",
        "else:\n",
        "  print(\"nie ok\")"
      ]
    },
    {
      "cell_type": "code",
      "source": [],
      "metadata": {
        "id": "cBTTTyXsm0Li"
      },
      "id": "cBTTTyXsm0Li",
      "execution_count": null,
      "outputs": []
    },
    {
      "cell_type": "code",
      "execution_count": null,
      "id": "09a08d6a",
      "metadata": {
        "id": "09a08d6a"
      },
      "outputs": [],
      "source": []
    },
    {
      "cell_type": "markdown",
      "id": "9f8beea4",
      "metadata": {
        "id": "9f8beea4"
      },
      "source": [
        "### Zadanie 2 [20 pkt]\n",
        "Rozwiąż [równanie kwadratowe](https://pl.wikipedia.org/wiki/R%C3%B3wnanie_kwadratowe)\n",
        "\n",
        "$$ax^2 + bx + c = 0$$\n",
        "\n",
        "* oblicz wyrożnik równania ($\\Delta$) [5 pkt]\n",
        "\n",
        "W zależności od wyróżnika równania ($\\Delta$) podaj możliwą odpowiedź (użyj `if`)\n",
        "\n",
        "* $\\Delta>0$ - dwa różne pierwiastki `x_minus`, `x_plus` [5 pkt]\n",
        "* $\\Delta=0$ - jeden podwójny pierwiastek `x` [5 pkt]\n",
        "* $\\Delta<0$ - dwa pierwiastki zespolone `x_minus`, `x_plus` [5 pkt]\n",
        "\n",
        "Uwaga: Wiem, że nie mieliście liczb zespolonych, ale Python je zna! Wystarczy się nie przejmować, że $\\Delta<0$..."
      ]
    },
    {
      "cell_type": "code",
      "execution_count": null,
      "id": "f0314793",
      "metadata": {
        "id": "f0314793",
        "colab": {
          "base_uri": "https://localhost:8080/"
        },
        "outputId": "698d56a4-cdca-4bbf-c988-7c6a7820fd9a"
      },
      "outputs": [
        {
          "output_type": "stream",
          "name": "stdout",
          "text": [
            "delta = 25\n",
            "x_minus = -1.0\n",
            "x_plus = 4.0\n"
          ]
        }
      ],
      "source": [
        "# tutaj piszemy program\n",
        "a, b, c = 1, -3, -4  # x_plus = 4.0 , x2_minus = -1.0\n",
        "\n",
        "delta = b ** 2 - 4 * a * c\n",
        "print(\"delta =\",delta)\n",
        "\n",
        "if delta == 0:\n",
        "  x = -b/(2*a)\n",
        "  print(\"x =\",x)\n",
        "else:\n",
        "  sqrt_delta = delta ** (1/2)\n",
        "  x_minus = (-b-sqrt_delta)/(2*a)\n",
        "  x_plus = (-b+sqrt_delta)/(2*a)\n",
        "  print(\"x_minus =\",x_minus)\n",
        "  print(\"x_plus =\",x_plus)\n",
        "\n",
        "  # j to tak naprawdę liczba \"i\", oznacza jednostkę urojoną"
      ]
    },
    {
      "cell_type": "code",
      "execution_count": null,
      "id": "33df835a",
      "metadata": {
        "id": "33df835a"
      },
      "outputs": [],
      "source": []
    },
    {
      "cell_type": "markdown",
      "id": "ff3479e6",
      "metadata": {
        "id": "ff3479e6"
      },
      "source": [
        "### Zadanie 3 [10 pkt]\n",
        "Wydrukuj liczby od 178 do 232 które mają literkę `c` w swoim rozwinięciu szesnastkowym. Poniżej znajdziesz funkcje którymi zmienisz daną liczbę na najważniejsze systemy liczbowe - binarny (`bin`), ósemkowy (`oct`) i szesnastkowy (`hex`). W zadaniu użyj pętli `while` oraz rozgałęzienia `if`. Na pewno przyda się operator zawierania `in`."
      ]
    },
    {
      "cell_type": "code",
      "execution_count": null,
      "id": "b5f9ffac",
      "metadata": {
        "id": "b5f9ffac",
        "outputId": "0d948a35-44ec-4253-8320-9ce464602fba"
      },
      "outputs": [
        {
          "name": "stdout",
          "output_type": "stream",
          "text": [
            "188 dwójkowo 0b10111100 ósemkowo 0o274 szesnastkowo 0xbc\n"
          ]
        }
      ],
      "source": [
        "# przykładowo\n",
        "liczba = 188\n",
        "print(liczba, \"dwójkowo\", bin(liczba), \"ósemkowo\", oct(liczba), \"szesnastkowo\", hex(liczba))"
      ]
    },
    {
      "cell_type": "code",
      "execution_count": null,
      "id": "3292431d",
      "metadata": {
        "id": "3292431d",
        "outputId": "d754aac4-890b-4e52-81ee-b536d74f65b2"
      },
      "outputs": [
        {
          "data": {
            "text/plain": [
              "True"
            ]
          },
          "execution_count": 3,
          "metadata": {},
          "output_type": "execute_result"
        }
      ],
      "source": [
        "# czy literka \"c\" jest w reprezentacji szesnastkowej lczby 188?\n",
        "\"c\" in hex(liczba)"
      ]
    },
    {
      "cell_type": "code",
      "execution_count": null,
      "id": "6347954a",
      "metadata": {
        "id": "6347954a",
        "colab": {
          "base_uri": "https://localhost:8080/"
        },
        "outputId": "f75781b3-d031-4cf8-cc84-ceef01199e86"
      },
      "outputs": [
        {
          "output_type": "stream",
          "name": "stdout",
          "text": [
            "0xbc 188\n",
            "0xc0 192\n",
            "0xc1 193\n",
            "0xc2 194\n",
            "0xc3 195\n",
            "0xc4 196\n",
            "0xc5 197\n",
            "0xc6 198\n",
            "0xc7 199\n",
            "0xc8 200\n",
            "0xc9 201\n",
            "0xca 202\n",
            "0xcb 203\n",
            "0xcc 204\n",
            "0xcd 205\n",
            "0xce 206\n",
            "0xcf 207\n",
            "0xdc 220\n"
          ]
        }
      ],
      "source": [
        "# rozwiązanie tutaj\n",
        "liczba = 178\n",
        "while liczba <= 232:\n",
        "  if \"c\" in hex(liczba):\n",
        "    print(hex(liczba),liczba)\n",
        "  liczba += 1\n",
        "  "
      ]
    },
    {
      "cell_type": "code",
      "execution_count": null,
      "id": "48201220",
      "metadata": {
        "id": "48201220"
      },
      "outputs": [],
      "source": []
    },
    {
      "cell_type": "markdown",
      "id": "d7d614de",
      "metadata": {
        "id": "d7d614de"
      },
      "source": [
        "### Zadanie 4 [10 pkt]\n",
        "\n",
        "> Temperatura pokojowa oznacza temperaturę z zakresu od 15 do 25 stopni Celsjusza.\n",
        "\n",
        "Przelicz stopnie Celsiusa na Fahrenheita w zakresie temperatur -27, 27 stopni Celsjusza, ale w zakresie temperatur pokojowych dodać informację \"temperatura pokojowa\". Zastosuj pętlę `while`. Odpowiedź sformatuj jak poniżej\n",
        "\n",
        "```\n",
        "13 stopni Celsiusa to 55.4 stopni Fahrenheita\n",
        "14 stopni Celsiusa to 57.2 stopni Fahrenheita\n",
        "temperatura pokojowa 15 stopni Celsiusa to 59.0 stopni Fahrenheita\n",
        "temperatura pokojowa 16 stopni Celsiusa to 60.8 stopni Fahrenheita\n",
        "```\n",
        "\n",
        "* co 3 stopnie (5 pkt)\n",
        "* co pół stopnia (5 pkt)"
      ]
    },
    {
      "cell_type": "code",
      "execution_count": null,
      "id": "c21b9225",
      "metadata": {
        "id": "c21b9225",
        "colab": {
          "base_uri": "https://localhost:8080/"
        },
        "outputId": "85382135-b03f-4409-d58e-12a8865c8dce"
      },
      "outputs": [
        {
          "output_type": "stream",
          "name": "stdout",
          "text": [
            "-27 stopni Celsiusa, to -16.6 stopni Fahrenheita\n",
            "-26.5 stopni Celsiusa, to -15.7 stopni Fahrenheita\n",
            "-26.0 stopni Celsiusa, to -14.8 stopni Fahrenheita\n",
            "-25.5 stopni Celsiusa, to -13.9 stopni Fahrenheita\n",
            "-25.0 stopni Celsiusa, to -13.0 stopni Fahrenheita\n",
            "-24.5 stopni Celsiusa, to -12.1 stopni Fahrenheita\n",
            "-24.0 stopni Celsiusa, to -11.2 stopni Fahrenheita\n",
            "-23.5 stopni Celsiusa, to -10.3 stopni Fahrenheita\n",
            "-23.0 stopni Celsiusa, to -9.4 stopni Fahrenheita\n",
            "-22.5 stopni Celsiusa, to -8.5 stopni Fahrenheita\n",
            "-22.0 stopni Celsiusa, to -7.6 stopni Fahrenheita\n",
            "-21.5 stopni Celsiusa, to -6.7 stopni Fahrenheita\n",
            "-21.0 stopni Celsiusa, to -5.8 stopni Fahrenheita\n",
            "-20.5 stopni Celsiusa, to -4.9 stopni Fahrenheita\n",
            "-20.0 stopni Celsiusa, to -4.0 stopni Fahrenheita\n",
            "-19.5 stopni Celsiusa, to -3.1 stopni Fahrenheita\n",
            "-19.0 stopni Celsiusa, to -2.2 stopni Fahrenheita\n",
            "-18.5 stopni Celsiusa, to -1.3 stopni Fahrenheita\n",
            "-18.0 stopni Celsiusa, to -0.4 stopni Fahrenheita\n",
            "-17.5 stopni Celsiusa, to 0.5 stopni Fahrenheita\n",
            "-17.0 stopni Celsiusa, to 1.4 stopni Fahrenheita\n",
            "-16.5 stopni Celsiusa, to 2.3 stopni Fahrenheita\n",
            "-16.0 stopni Celsiusa, to 3.2 stopni Fahrenheita\n",
            "-15.5 stopni Celsiusa, to 4.1 stopni Fahrenheita\n",
            "-15.0 stopni Celsiusa, to 5.0 stopni Fahrenheita\n",
            "-14.5 stopni Celsiusa, to 5.9 stopni Fahrenheita\n",
            "-14.0 stopni Celsiusa, to 6.8 stopni Fahrenheita\n",
            "-13.5 stopni Celsiusa, to 7.7 stopni Fahrenheita\n",
            "-13.0 stopni Celsiusa, to 8.6 stopni Fahrenheita\n",
            "-12.5 stopni Celsiusa, to 9.5 stopni Fahrenheita\n",
            "-12.0 stopni Celsiusa, to 10.4 stopni Fahrenheita\n",
            "-11.5 stopni Celsiusa, to 11.3 stopni Fahrenheita\n",
            "-11.0 stopni Celsiusa, to 12.2 stopni Fahrenheita\n",
            "-10.5 stopni Celsiusa, to 13.1 stopni Fahrenheita\n",
            "-10.0 stopni Celsiusa, to 14.0 stopni Fahrenheita\n",
            "-9.5 stopni Celsiusa, to 14.9 stopni Fahrenheita\n",
            "-9.0 stopni Celsiusa, to 15.8 stopni Fahrenheita\n",
            "-8.5 stopni Celsiusa, to 16.7 stopni Fahrenheita\n",
            "-8.0 stopni Celsiusa, to 17.6 stopni Fahrenheita\n",
            "-7.5 stopni Celsiusa, to 18.5 stopni Fahrenheita\n",
            "-7.0 stopni Celsiusa, to 19.4 stopni Fahrenheita\n",
            "-6.5 stopni Celsiusa, to 20.3 stopni Fahrenheita\n",
            "-6.0 stopni Celsiusa, to 21.2 stopni Fahrenheita\n",
            "-5.5 stopni Celsiusa, to 22.1 stopni Fahrenheita\n",
            "-5.0 stopni Celsiusa, to 23.0 stopni Fahrenheita\n",
            "-4.5 stopni Celsiusa, to 23.9 stopni Fahrenheita\n",
            "-4.0 stopni Celsiusa, to 24.8 stopni Fahrenheita\n",
            "-3.5 stopni Celsiusa, to 25.7 stopni Fahrenheita\n",
            "-3.0 stopni Celsiusa, to 26.6 stopni Fahrenheita\n",
            "-2.5 stopni Celsiusa, to 27.5 stopni Fahrenheita\n",
            "-2.0 stopni Celsiusa, to 28.4 stopni Fahrenheita\n",
            "-1.5 stopni Celsiusa, to 29.3 stopni Fahrenheita\n",
            "-1.0 stopni Celsiusa, to 30.2 stopni Fahrenheita\n",
            "-0.5 stopni Celsiusa, to 31.1 stopni Fahrenheita\n",
            "0.0 stopni Celsiusa, to 32.0 stopni Fahrenheita\n",
            "0.5 stopni Celsiusa, to 32.9 stopni Fahrenheita\n",
            "1.0 stopni Celsiusa, to 33.8 stopni Fahrenheita\n",
            "1.5 stopni Celsiusa, to 34.7 stopni Fahrenheita\n",
            "2.0 stopni Celsiusa, to 35.6 stopni Fahrenheita\n",
            "2.5 stopni Celsiusa, to 36.5 stopni Fahrenheita\n",
            "3.0 stopni Celsiusa, to 37.4 stopni Fahrenheita\n",
            "3.5 stopni Celsiusa, to 38.3 stopni Fahrenheita\n",
            "4.0 stopni Celsiusa, to 39.2 stopni Fahrenheita\n",
            "4.5 stopni Celsiusa, to 40.1 stopni Fahrenheita\n",
            "5.0 stopni Celsiusa, to 41.0 stopni Fahrenheita\n",
            "5.5 stopni Celsiusa, to 41.9 stopni Fahrenheita\n",
            "6.0 stopni Celsiusa, to 42.8 stopni Fahrenheita\n",
            "6.5 stopni Celsiusa, to 43.7 stopni Fahrenheita\n",
            "7.0 stopni Celsiusa, to 44.6 stopni Fahrenheita\n",
            "7.5 stopni Celsiusa, to 45.5 stopni Fahrenheita\n",
            "8.0 stopni Celsiusa, to 46.4 stopni Fahrenheita\n",
            "8.5 stopni Celsiusa, to 47.3 stopni Fahrenheita\n",
            "9.0 stopni Celsiusa, to 48.2 stopni Fahrenheita\n",
            "9.5 stopni Celsiusa, to 49.1 stopni Fahrenheita\n",
            "10.0 stopni Celsiusa, to 50.0 stopni Fahrenheita\n",
            "10.5 stopni Celsiusa, to 50.9 stopni Fahrenheita\n",
            "11.0 stopni Celsiusa, to 51.8 stopni Fahrenheita\n",
            "11.5 stopni Celsiusa, to 52.7 stopni Fahrenheita\n",
            "12.0 stopni Celsiusa, to 53.6 stopni Fahrenheita\n",
            "12.5 stopni Celsiusa, to 54.5 stopni Fahrenheita\n",
            "13.0 stopni Celsiusa, to 55.4 stopni Fahrenheita\n",
            "13.5 stopni Celsiusa, to 56.3 stopni Fahrenheita\n",
            "14.0 stopni Celsiusa, to 57.2 stopni Fahrenheita\n",
            "14.5 stopni Celsiusa, to 58.1 stopni Fahrenheita\n",
            "Temperatura pokojowa 15.0 stopni Celsiusa, to 59.0 stopni Fahrenheita\n",
            "Temperatura pokojowa 15.5 stopni Celsiusa, to 59.9 stopni Fahrenheita\n",
            "Temperatura pokojowa 16.0 stopni Celsiusa, to 60.8 stopni Fahrenheita\n",
            "Temperatura pokojowa 16.5 stopni Celsiusa, to 61.7 stopni Fahrenheita\n",
            "Temperatura pokojowa 17.0 stopni Celsiusa, to 62.6 stopni Fahrenheita\n",
            "Temperatura pokojowa 17.5 stopni Celsiusa, to 63.5 stopni Fahrenheita\n",
            "Temperatura pokojowa 18.0 stopni Celsiusa, to 64.4 stopni Fahrenheita\n",
            "Temperatura pokojowa 18.5 stopni Celsiusa, to 65.3 stopni Fahrenheita\n",
            "Temperatura pokojowa 19.0 stopni Celsiusa, to 66.2 stopni Fahrenheita\n",
            "Temperatura pokojowa 19.5 stopni Celsiusa, to 67.1 stopni Fahrenheita\n",
            "Temperatura pokojowa 20.0 stopni Celsiusa, to 68.0 stopni Fahrenheita\n",
            "Temperatura pokojowa 20.5 stopni Celsiusa, to 68.9 stopni Fahrenheita\n",
            "Temperatura pokojowa 21.0 stopni Celsiusa, to 69.8 stopni Fahrenheita\n",
            "Temperatura pokojowa 21.5 stopni Celsiusa, to 70.7 stopni Fahrenheita\n",
            "Temperatura pokojowa 22.0 stopni Celsiusa, to 71.6 stopni Fahrenheita\n",
            "Temperatura pokojowa 22.5 stopni Celsiusa, to 72.5 stopni Fahrenheita\n",
            "Temperatura pokojowa 23.0 stopni Celsiusa, to 73.4 stopni Fahrenheita\n",
            "Temperatura pokojowa 23.5 stopni Celsiusa, to 74.3 stopni Fahrenheita\n",
            "Temperatura pokojowa 24.0 stopni Celsiusa, to 75.2 stopni Fahrenheita\n",
            "Temperatura pokojowa 24.5 stopni Celsiusa, to 76.1 stopni Fahrenheita\n",
            "Temperatura pokojowa 25.0 stopni Celsiusa, to 77.0 stopni Fahrenheita\n",
            "25.5 stopni Celsiusa, to 77.9 stopni Fahrenheita\n",
            "26.0 stopni Celsiusa, to 78.8 stopni Fahrenheita\n",
            "26.5 stopni Celsiusa, to 79.7 stopni Fahrenheita\n",
            "27.0 stopni Celsiusa, to 80.6 stopni Fahrenheita\n"
          ]
        }
      ],
      "source": [
        "# rozwiązanie tutaj\n",
        "degree_celsius = -27\n",
        "\n",
        "while degree_celsius <= 27:\n",
        "  degree_fahrenheit = degree_celsius * (9/5) + 32\n",
        "  if degree_celsius >= 15 and degree_celsius <= 25:\n",
        "    print(\"Temperatura pokojowa\", degree_celsius, \"stopni Celsiusa, to\", round(degree_fahrenheit, 2), \"stopni Fahrenheita\")\n",
        "  else:\n",
        "     print(degree_celsius, \"stopni Celsiusa, to\", round(degree_fahrenheit, 2), \"stopni Fahrenheita\")\n",
        "  degree_celsius += .5 # +=3\n",
        "\n"
      ]
    },
    {
      "cell_type": "markdown",
      "id": "00d0c9fd",
      "metadata": {
        "id": "00d0c9fd"
      },
      "source": [
        "## Wstęp do zadania 5\n",
        "\n",
        "Sumę liczb od 1 do 10 możemy zapisać tradycyjnie\n",
        "\n",
        "    1 + 2 + 3 + 4 + 5 + 6 + 7 + 8 + 9 + 10\n",
        "    "
      ]
    },
    {
      "cell_type": "code",
      "execution_count": null,
      "id": "fa87aa68",
      "metadata": {
        "id": "fa87aa68"
      },
      "outputs": [],
      "source": [
        "suma = 1 + 2 + 3 + 4 + 5 + 6 + 7 + 8 + 9 + 10\n",
        "print(suma)"
      ]
    },
    {
      "cell_type": "markdown",
      "id": "1d02e656",
      "metadata": {
        "id": "1d02e656"
      },
      "source": [
        "lub za pomocą symbolu $\\sum$\n",
        "\n",
        "$$suma = \\sum_{i = 1}^{10} i$$\n",
        "\n",
        "co w przełożeniu na język Python i pętlę `while` można zapisać w postaci [snippetu](https://pl.wikipedia.org/wiki/Snippet_(programowanie))"
      ]
    },
    {
      "cell_type": "code",
      "execution_count": null,
      "id": "fa722d8d",
      "metadata": {
        "id": "fa722d8d",
        "colab": {
          "base_uri": "https://localhost:8080/"
        },
        "outputId": "514f9c04-67fa-4e93-cc0d-987d12351272"
      },
      "outputs": [
        {
          "output_type": "stream",
          "name": "stdout",
          "text": [
            "55\n"
          ]
        }
      ],
      "source": [
        "i = 1\n",
        "suma = 0\n",
        "\n",
        "while i <= 10:\n",
        "    suma += i\n",
        "    i += 1\n",
        "    \n",
        "print(suma)"
      ]
    },
    {
      "cell_type": "markdown",
      "source": [],
      "metadata": {
        "id": "2iksliwgVFQy"
      },
      "id": "2iksliwgVFQy"
    },
    {
      "cell_type": "markdown",
      "id": "8aba7956",
      "metadata": {
        "id": "8aba7956"
      },
      "source": [
        "### Zadanie 5 [30 pkt]\n",
        "Wykonaj sumowania\n",
        "\n",
        "* [5 pkt] pierwiastków kwadratowych liczb od 0.0001 do 3.1415 co 0.0001\n",
        "* [5 pkt] odwrotności liczb naturalnych od 1 do 99\n",
        "    $$s = \\sum_{j = 1}^{99} \\frac{1}{j}$$\n",
        "* [5 pkt] wszystkich liczb od -333 do 21345 podzielnych przez 8 i 11 \n",
        "* [5 pkt] wszystkich liczb całkowitych od -1000 do 0, w których znajdziemy cyfrę \"3\" (pomocna będzie o funkcja rzutująca `str()`)\n",
        "* [5 pkt] wszystkich jedynek jakie znajdują się w reprezentacjach binarnych liczb nieparzystych od 33 do 99 (patrz zadanie 3, znajdziesz tam funkcję zwracającą reprezenatcję binarną liczb)\n",
        "* [5 pkt] pierwszych stu liczb naturalnych"
      ]
    },
    {
      "cell_type": "code",
      "execution_count": null,
      "id": "41d6b705",
      "metadata": {
        "id": "41d6b705",
        "colab": {
          "base_uri": "https://localhost:8080/"
        },
        "outputId": "d9aec109-51ef-4f49-f9b0-cb5cd37a41da"
      },
      "outputs": [
        {
          "output_type": "stream",
          "name": "stdout",
          "text": [
            "37119.65612516737\n"
          ]
        }
      ],
      "source": [
        "# suma pierwiastków kwadratowych liczb od 0.0001 do 3.1415 co 0.0001\n",
        "number = 0.0001\n",
        "step = 0.0001\n",
        "end = 3.1415\n",
        "\n",
        "sum = 0\n",
        "while number <= end:\n",
        "  sum += number**0.5\n",
        "  number += step\n",
        "print(sum)"
      ]
    },
    {
      "cell_type": "code",
      "execution_count": null,
      "id": "0280282b",
      "metadata": {
        "id": "0280282b",
        "colab": {
          "base_uri": "https://localhost:8080/"
        },
        "outputId": "3a6c1b52-dc48-4626-a112-a907a3879ff0"
      },
      "outputs": [
        {
          "output_type": "stream",
          "name": "stdout",
          "text": [
            "5.177377517639621\n"
          ]
        }
      ],
      "source": [
        "# suma odwrotności liczb naturalnych od 1 do 99\n",
        "number = 1\n",
        "step = 1\n",
        "end = 99\n",
        "\n",
        "sum = 0\n",
        "while number <= end:\n",
        "  sum += 1/number\n",
        "  number += step\n",
        "print(sum)"
      ]
    },
    {
      "cell_type": "code",
      "execution_count": null,
      "id": "3bd4b9f7",
      "metadata": {
        "id": "3bd4b9f7",
        "colab": {
          "base_uri": "https://localhost:8080/"
        },
        "outputId": "e94187a1-d9e9-4d68-d677-7b0143bdccac"
      },
      "outputs": [
        {
          "output_type": "stream",
          "name": "stdout",
          "text": [
            "2586936\n"
          ]
        }
      ],
      "source": [
        "# suma wszystkich liczb podzielnych przez 8 i 11 od -333 do 21345\n",
        "number = -333\n",
        "step = 1\n",
        "end = 21345\n",
        "\n",
        "sum = 0\n",
        "while number <= end:\n",
        "  if number%88 == 0:\n",
        "    sum += number\n",
        "  number += step\n",
        "print(sum)"
      ]
    },
    {
      "cell_type": "code",
      "execution_count": null,
      "id": "7ee13acf",
      "metadata": {
        "id": "7ee13acf",
        "colab": {
          "base_uri": "https://localhost:8080/"
        },
        "outputId": "067840ed-5421-4ad2-ab87-23bac9db8a93"
      },
      "outputs": [
        {
          "output_type": "stream",
          "name": "stdout",
          "text": [
            "-121878\n"
          ]
        }
      ],
      "source": [
        "# suma wszystkich liczb całkowitych od -1000 do 0, w których znajdziemy cyfrę \"3\"\n",
        "number = -1000\n",
        "step = 1\n",
        "end = 0\n",
        "\n",
        "sum = 0\n",
        "while number <= end:\n",
        "  if \"3\" in str(number):\n",
        "    sum += number\n",
        "  number += step\n",
        "print(sum)"
      ]
    },
    {
      "cell_type": "code",
      "execution_count": null,
      "id": "1cec2bb3",
      "metadata": {
        "id": "1cec2bb3",
        "colab": {
          "base_uri": "https://localhost:8080/"
        },
        "outputId": "3fd18ba5-f151-4d69-c122-6cffcfea50f4"
      },
      "outputs": [
        {
          "output_type": "stream",
          "name": "stdout",
          "text": [
            "135\n"
          ]
        }
      ],
      "source": [
        "# suma wszystkich jedynek jakie znajdują się w reprezentacjch binarnych liczb nieparzystych od 33 do 99.\n",
        "number = 33\n",
        "step = 2 # liczby nieparzyste\n",
        "end = 99\n",
        "\n",
        "sum = 0\n",
        "while number <= end:\n",
        "  ones = bin(number).count(\"1\") \n",
        "  sum += ones\n",
        "  number += step\n",
        "print(sum)"
      ]
    },
    {
      "cell_type": "code",
      "execution_count": null,
      "id": "d4aeab9a",
      "metadata": {
        "id": "d4aeab9a",
        "colab": {
          "base_uri": "https://localhost:8080/"
        },
        "outputId": "d5c69bbf-cb9f-4000-f444-5e9cf07401b7"
      },
      "outputs": [
        {
          "output_type": "stream",
          "name": "stdout",
          "text": [
            "4950\n"
          ]
        }
      ],
      "source": [
        "# suma pierwszych stu liczb naturalnych\n",
        "number = 0\n",
        "step = 1\n",
        "end = 99\n",
        "\n",
        "sum = 0\n",
        "while number <= end: \n",
        "  sum += number\n",
        "  number += step\n",
        "print(sum)"
      ]
    },
    {
      "cell_type": "code",
      "execution_count": null,
      "id": "bfa50566",
      "metadata": {
        "id": "bfa50566"
      },
      "outputs": [],
      "source": []
    },
    {
      "cell_type": "markdown",
      "id": "7dad2622",
      "metadata": {
        "id": "7dad2622"
      },
      "source": [
        "## Zad 6 [10 pkt]\n",
        "\n",
        "Z użyciem pętli `while` napisz program, który zwraca **ilość** początkowych liczb naturalnych, których suma daje liczbę większą lub równą 999."
      ]
    },
    {
      "cell_type": "code",
      "execution_count": null,
      "id": "dc34c9f8",
      "metadata": {
        "id": "dc34c9f8",
        "colab": {
          "base_uri": "https://localhost:8080/"
        },
        "outputId": "0846c80e-c91a-408b-c0c3-9c9161af94b8"
      },
      "outputs": [
        {
          "output_type": "stream",
          "name": "stdout",
          "text": [
            "1\n",
            "2\n",
            "3\n",
            "4\n",
            "5\n",
            "6\n",
            "7\n",
            "8\n",
            "9\n",
            "10\n",
            "11\n",
            "12\n",
            "13\n",
            "14\n",
            "15\n",
            "16\n",
            "17\n",
            "18\n",
            "19\n",
            "20\n",
            "21\n",
            "22\n",
            "23\n",
            "24\n",
            "25\n",
            "26\n",
            "27\n",
            "28\n",
            "29\n",
            "30\n",
            "31\n",
            "32\n",
            "33\n",
            "34\n",
            "35\n",
            "36\n",
            "37\n",
            "38\n",
            "39\n",
            "40\n",
            "41\n",
            "42\n",
            "43\n",
            "44\n",
            "45\n",
            "46\n"
          ]
        }
      ],
      "source": [
        "count = 1\n",
        "sum = 0\n",
        "\n",
        "while sum < 999:\n",
        "  print(count)\n",
        "  sum += count\n",
        "  count += 1\n",
        "  \n",
        "# 0 + 1 + 2 + ... + 45 >= 999 \n",
        "print(count)"
      ]
    },
    {
      "cell_type": "markdown",
      "id": "4e0044f3",
      "metadata": {
        "id": "4e0044f3"
      },
      "source": [
        "## Zad 7 [10 pkt]\n",
        "\n",
        "Na łące przechadzają się krowy, kaczki i owce. Owiec jest więcej niż kaczek. Suma głów oraz nóg należących do kaczek i owiec jest równa 100. Krów jest trzykrotnie mniej niż owiec i kaczek razem.\n",
        "\n",
        "Ile jest krów?"
      ]
    },
    {
      "cell_type": "code",
      "execution_count": 2,
      "id": "010e9965",
      "metadata": {
        "id": "010e9965",
        "colab": {
          "base_uri": "https://localhost:8080/"
        },
        "outputId": "6fa7799c-0ea1-4582-c33d-095a02a53f20"
      },
      "outputs": [
        {
          "output_type": "stream",
          "name": "stdout",
          "text": [
            "ducks = 10\n",
            "sheeps = 14\n",
            "cows = 8\n"
          ]
        }
      ],
      "source": [
        "#ducks < sheeps\n",
        "\n",
        "control_sum = 0\n",
        "ducks = 0\n",
        "\n",
        "while ducks <= 19:\n",
        "  sheeps = ducks + 1\n",
        "  while sheeps <= 20:\n",
        "    control_sum = 3 * ducks + 5 * sheeps\n",
        "    if control_sum == 100 and (ducks + sheeps)%3 == 0:\n",
        "      print(\"ducks =\", ducks)\n",
        "      print(\"sheeps =\", sheeps)\n",
        "      print(\"cows =\", int((ducks + sheeps)/3))\n",
        "    sheeps += 1\n",
        "  ducks += 1\n"
      ]
    },
    {
      "cell_type": "code",
      "source": [],
      "metadata": {
        "id": "HuwdgME8YeA4"
      },
      "id": "HuwdgME8YeA4",
      "execution_count": null,
      "outputs": []
    }
  ],
  "metadata": {
    "kernelspec": {
      "display_name": "Python 3 (ipykernel)",
      "language": "python",
      "name": "python3"
    },
    "language_info": {
      "codemirror_mode": {
        "name": "ipython",
        "version": 3
      },
      "file_extension": ".py",
      "mimetype": "text/x-python",
      "name": "python",
      "nbconvert_exporter": "python",
      "pygments_lexer": "ipython3",
      "version": "3.9.5"
    },
    "colab": {
      "provenance": [],
      "include_colab_link": true
    }
  },
  "nbformat": 4,
  "nbformat_minor": 5
}